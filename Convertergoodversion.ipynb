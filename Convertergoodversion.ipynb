{
 "cells": [
  {
   "cell_type": "code",
   "execution_count": 1,
   "metadata": {},
   "outputs": [
    {
     "data": {
      "application/javascript": [
       "\n",
       "require(['notebook/js/codecell'], function(codecell) {\n",
       "  codecell.CodeCell.options_default.highlight_modes[\n",
       "      'magic_text/x-csrc'] = {'reg':[/^%%microblaze/]};\n",
       "  Jupyter.notebook.events.one('kernel_ready.Kernel', function(){\n",
       "      Jupyter.notebook.get_cells().map(function(cell){\n",
       "          if (cell.cell_type == 'code'){ cell.auto_highlight(); } }) ;\n",
       "  });\n",
       "});\n"
      ]
     },
     "metadata": {},
     "output_type": "display_data"
    }
   ],
   "source": [
    "import wave\n",
    "from pydub import AudioSegment\n",
    "import soundfile\n",
    "from pynq.overlays.base import BaseOverlay\n",
    "base = BaseOverlay(\"base.bit\")\n",
    "pAudio = base.audio\n",
    "\n",
    "\n",
    "#conversion du fichier de départ en mono vers un fichier final en stéréo\n",
    "sound = AudioSegment.from_wav(\"Voix-001wav.wav\")\n",
    "sound = sound.set_channels(2)\n",
    "sound.export(\"Voix001wavgoodversion.wav\",format=\"wav\")\n",
    "\n",
    "#conversion du fichier de départ en 16 bits vers un fichier en 24 bits\n",
    "data, samplerate = soundfile.read('Voix001wavgoodversion.wav')\n",
    "soundfile.write('f.wav', data, 48000, subtype='PCM_24')\n",
    "\n",
    "#écoute du fichier audio\n",
    "pAudio.load(\"f.wav\")\n",
    "pAudio.play()"
   ]
  }
 ],
 "metadata": {
  "kernelspec": {
   "display_name": "Python 3",
   "language": "python",
   "name": "python3"
  },
  "language_info": {
   "codemirror_mode": {
    "name": "ipython",
    "version": 3
   },
   "file_extension": ".py",
   "mimetype": "text/x-python",
   "name": "python",
   "nbconvert_exporter": "python",
   "pygments_lexer": "ipython3",
   "version": "3.6.5"
  }
 },
 "nbformat": 4,
 "nbformat_minor": 2
}
